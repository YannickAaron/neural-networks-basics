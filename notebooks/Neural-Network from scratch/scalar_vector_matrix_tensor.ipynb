{
 "cells": [
  {
   "cell_type": "markdown",
   "metadata": {},
   "source": [
    "# Scarlar, vector, matrix, tensor\n",
    "this notebook aims to give a brief understanding of the concept of scalar, vector, matrix, tensor.\n",
    "Further basic operations will be discussed."
   ]
  },
  {
   "cell_type": "markdown",
   "metadata": {},
   "source": [
    "## Overview\n",
    "\n",
    "<img src=\"https://github.com/YannickAaron/deepLearningBook-Notes/raw/f8f489bd4945bf64509986c0fd378bee61a6706a/2.1%20Scalars,%20Vectors,%20Matrices%20and%20Tensors/images/scalar-vector-matrix-tensor.png\" width=400>\n",
    "\n",
    "[image source](https://github.com/YannickAaron/deepLearningBook-Notes/blob/master/2.1%20Scalars%2C%20Vectors%2C%20Matrices%20and%20Tensors/2.1%20Scalars%20Vectors%20Matrices%20and%20Tensors.ipynb)\n",
    "\n",
    "### Scalar\n",
    "A scalar is a single number.\n",
    "\n",
    "**Example:**\n",
    "\n",
    "$ 1 $\n",
    "    \n",
    "```python\n",
    "a = 1\n",
    "```\n",
    "\n",
    "### Vector\n",
    "A vector is an array of numbers.\n",
    "\n",
    "**Example:**\n",
    "\n",
    "$ \\begin{bmatrix} 1 \\\\ 2 \\\\ 3 \\end{bmatrix} $\n",
    "    \n",
    "```python\n",
    "a = np.array([1, 2, 3])\n",
    "```\n",
    "\n",
    "### Matrix\n",
    "A matrix is a 2d array of numbers.\n",
    "\n",
    "**Example:**\n",
    "\n",
    "$ \\begin{bmatrix} 1 & 2 & 3 \\\\ 4 & 5 & 6 \\end{bmatrix} $\n",
    "    \n",
    "```python\n",
    "a = np.array([[1, 2, 3], [4, 5, 6]])\n",
    "```\n",
    "\n",
    "### Tensor\n",
    "A tensor is a $n$ dimensional array of numbers.\n",
    "\n",
    "**Example:**\n",
    "\n",
    "$ \\begin{bmatrix} [1 & 2] & [3 & 4] \\\\ [5 & 6] & [7 & 8] \\\\ [9 & 10] & [11 & 12] \\end{bmatrix} $\n",
    "\n",
    "```python\n",
    "a = np.array([[[1, 2], [3, 4]], [[5, 6], [7, 8]], [[9, 10], [11, 12]]])\n",
    "```"
   ]
  },
  {
   "cell_type": "markdown",
   "metadata": {},
   "source": [
    "## Code Examples"
   ]
  },
  {
   "cell_type": "code",
   "execution_count": 16,
   "metadata": {},
   "outputs": [],
   "source": [
    "import numpy as np"
   ]
  },
  {
   "cell_type": "code",
   "execution_count": 17,
   "metadata": {},
   "outputs": [
    {
     "data": {
      "text/plain": [
       "1"
      ]
     },
     "execution_count": 17,
     "metadata": {},
     "output_type": "execute_result"
    }
   ],
   "source": [
    "# Scalar\n",
    "a = 1\n",
    "a"
   ]
  },
  {
   "cell_type": "code",
   "execution_count": 18,
   "metadata": {},
   "outputs": [
    {
     "data": {
      "text/plain": [
       "array([1, 2, 3, 4])"
      ]
     },
     "execution_count": 18,
     "metadata": {},
     "output_type": "execute_result"
    }
   ],
   "source": [
    "# Vector\n",
    "a = np.array([1, 2, 3, 4])\n",
    "a"
   ]
  },
  {
   "cell_type": "code",
   "execution_count": 19,
   "metadata": {},
   "outputs": [
    {
     "data": {
      "text/plain": [
       "(4,)"
      ]
     },
     "execution_count": 19,
     "metadata": {},
     "output_type": "execute_result"
    }
   ],
   "source": [
    "a.shape"
   ]
  },
  {
   "cell_type": "code",
   "execution_count": 20,
   "metadata": {},
   "outputs": [
    {
     "data": {
      "text/plain": [
       "array([[1, 2, 3, 4],\n",
       "       [5, 6, 7, 8]])"
      ]
     },
     "execution_count": 20,
     "metadata": {},
     "output_type": "execute_result"
    }
   ],
   "source": [
    "# Matrix\n",
    "a = np.array([[1, 2, 3, 4], [5, 6, 7, 8]])\n",
    "a"
   ]
  },
  {
   "cell_type": "code",
   "execution_count": 21,
   "metadata": {},
   "outputs": [
    {
     "data": {
      "text/plain": [
       "(2, 4)"
      ]
     },
     "execution_count": 21,
     "metadata": {},
     "output_type": "execute_result"
    }
   ],
   "source": [
    "# matrix shape\n",
    "a.shape"
   ]
  },
  {
   "cell_type": "markdown",
   "metadata": {},
   "source": [
    "In this case we have a 2x4 matrix (2 rows and 4 columns or 2 elements holding 4 values).\n",
    "\n",
    "When thinking of the shape, its always counted from the top element to the bottom element"
   ]
  },
  {
   "cell_type": "markdown",
   "metadata": {},
   "source": [
    "### Basic Operations"
   ]
  },
  {
   "cell_type": "markdown",
   "metadata": {},
   "source": [
    "#### Transpose\n",
    "Transposing means changing the order of the elements in the matrix.\n",
    "In other words, it converts the rows to a columns and vice versa.\n",
    "\n",
    "#### Vector \n",
    "\n",
    "$ a = \\begin{bmatrix} 1 \\\\ 2 \\\\ 3 \\end{bmatrix} $\n",
    "\n",
    "$ a^T = \\begin{bmatrix} 1 & 2 & 3 \\end{bmatrix} $\n",
    "\n",
    "#### Matrix\n",
    "\n",
    "**Non square matrix transpose**\n",
    "$ a = \\begin{bmatrix} 1 & 2 & 3 \\\\ 4 & 5 & 6 \\end{bmatrix} $\n",
    "\n",
    "$ a^T = \\begin{bmatrix} 1 & 4 \\\\ 2 & 5 \\\\ 3 & 6 \\end{bmatrix} $\n",
    "\n",
    "**Square matrix transpose**\n",
    "\n",
    "$ a = \\begin{bmatrix} 1 & 2 \\\\ 3 & 4 \\end{bmatrix} $\n",
    "\n",
    "$ a^T = \\begin{bmatrix} 1 & 3 \\\\ 2 & 4 \\end{bmatrix} $\n"
   ]
  },
  {
   "cell_type": "markdown",
   "metadata": {},
   "source": [
    "#### Remeber\n",
    "\n",
    "the $mxn$ matrix becomes a $nxm$ when transposed.\n",
    "\n",
    "<img src=\"https://github.com/YannickAaron/deepLearningBook-Notes/raw/f8f489bd4945bf64509986c0fd378bee61a6706a/2.1%20Scalars,%20Vectors,%20Matrices%20and%20Tensors/images/dimensions-transposition-matrix.png\" width=500>"
   ]
  },
  {
   "cell_type": "markdown",
   "metadata": {},
   "source": [
    "## Further reads:\n",
    "\n",
    "- [Scalars, Vectors, Matrix, Tensors Notebook by deepLearningBook](https://github.com/YannickAaron/deepLearningBook-Notes/blob/master/2.1%20Scalars%2C%20Vectors%2C%20Matrices%20and%20Tensors/2.1%20Scalars%20Vectors%20Matrices%20and%20Tensors.ipynb)\n",
    "- [Broadcasting in Numpy](https://docs.scipy.org/doc/numpy-1.13.0/user/basics.broadcasting.html)\n",
    "- [Discussion on Arrays and matrices](https://stackoverflow.com/questions/4151128/what-are-the-differences-between-numpy-arrays-and-matrices-which-one-should-i-u)\n",
    "- [Math is fun - Matrix introduction](https://www.mathsisfun.com/algebra/matrix-introduction.html)"
   ]
  }
 ],
 "metadata": {
  "kernelspec": {
   "display_name": "Python 3.10.3 ('.venv': poetry)",
   "language": "python",
   "name": "python3"
  },
  "language_info": {
   "codemirror_mode": {
    "name": "ipython",
    "version": 3
   },
   "file_extension": ".py",
   "mimetype": "text/x-python",
   "name": "python",
   "nbconvert_exporter": "python",
   "pygments_lexer": "ipython3",
   "version": "3.10.3"
  },
  "orig_nbformat": 4,
  "vscode": {
   "interpreter": {
    "hash": "9a89fcd9dc923f3a7c49fa2cddc8f294683fde34777d6819899efbfce77d2ab3"
   }
  }
 },
 "nbformat": 4,
 "nbformat_minor": 2
}
