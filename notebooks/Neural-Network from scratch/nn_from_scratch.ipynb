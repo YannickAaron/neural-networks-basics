{
 "cells": [
  {
   "cell_type": "code",
   "execution_count": 30,
   "metadata": {},
   "outputs": [],
   "source": [
    "# pylint: disable=C0103,W0621,C0116,R0913,C0114,E0401,R0914,W0613\n",
    "import numpy as np\n",
    "import pandas as pd\n",
    "from matplotlib import pyplot as plt"
   ]
  },
  {
   "cell_type": "markdown",
   "metadata": {},
   "source": [
    "## Task:\n",
    "Classifying handwritten digits from the famous MNIST dataset.\n",
    "\n",
    "This dataset contains $n$ = 28x28 images of handwritten digits.\n",
    "\n",
    "$$\n",
    "\\left[\\begin{array}{ll}\n",
    "x_{1} & x_{2}\n",
    "\\end{array}\\right]\\left[\\begin{array}{lll}\n",
    "w_{11} & w_{12} & w_{13} \\\\\n",
    "w_{21} & w_{22} & w_{23}\n",
    "\\end{array}\\right]=\\left[\\begin{array}{l}\n",
    "x_{1} w_{11}+x_{2} w_{21} \\\\\n",
    "x_{1} w_{12}+x_{2} w_{22} \\\\\n",
    "x_{1} w_{13}+x_{2} w_{23}\n",
    "\\end{array}\\right]^{\\prime}=\\left[\\begin{array}{l}\n",
    "h_{1} \\\\\n",
    "h_{2} \\\\\n",
    "h_{3}\n",
    "\\end{array}\\right]^{\\prime}\n",
    "$$"
   ]
  },
  {
   "cell_type": "markdown",
   "metadata": {},
   "source": [
    "## Difference between scalar, vector matrix and tensor\n",
    "Before starting this excerise, the differences between those 4 types has to be understood.\n",
    "Please open the scalar_vector_matrix_tensor.ipynb notebook if you are not familiar with them.\n"
   ]
  },
  {
   "cell_type": "markdown",
   "metadata": {},
   "source": [
    "## NN Architecture\n",
    "\n",
    "\n",
    "**1. Input layer:** In this layer, we input our dataset, consisting of 28x28 images. We flatten these images into one array with $ 28 × 28 = 784 $ elements. This means our input layer will have 784 nodes.\n",
    "\n",
    "**2. Hidden layer 1:** In this layer, we have decided to reduce the number of nodes from 784 in the input layer to 128 nodes.\n",
    "\n",
    "**3. Hidden layer 2:** In this layer, we have decided to go with 64 nodes, from the 128 nodes in the first hidden layer. This is no new challenge, since we already reduced the number in the first layer.\n",
    "\n",
    "**4. Output layer:** In this layer, we are reducing the 64 nodes to a total of 10 nodes, so that we can evaluate the nodes against the label. This label is received in the form of an array with 10 elements, where one of the elements is 1, while the rest is 0."
   ]
  },
  {
   "cell_type": "markdown",
   "metadata": {},
   "source": [
    "### Forward propagation\n",
    "\n",
    "$$\n",
    "\\begin{gathered}\n",
    "Z^{[1]}=W^{[1]} X+b^{[1]} \\\\\n",
    "\\left.A^{[1]}=g_{\\mathrm{ReLU}}\\left(Z^{[1]}\\right)\\right) \\\\\n",
    "Z^{[2]}=W^{[2]} A^{[1]}+b^{[2]} \\\\\n",
    "A^{[2]}=g_{\\text {softmax }}\\left(Z^{[2]}\\right)\n",
    "\\end{gathered}\n",
    "$$\n",
    "\n",
    "### Backward propagation\n",
    "\n",
    "$$\n",
    "\\begin{aligned}\n",
    "&d Z^{[2]}=A^{[2]}-Y\\\\\n",
    "&d W^{[2]}=\\frac{1}{m} d Z^{[2]} A^{[1] T}\\\\\n",
    "&d B^{[2]}=\\frac{1}{m} \\Sigma d Z^{[2]}\\\\\n",
    "&d Z^{[1]}=W^{[2] T} d Z^{[2]} \\cdot * g^{[1] \\prime}\\left(z^{[1]}\\right)\\\\\n",
    "&d W^{[1]}=\\frac{1}{m} d Z^{[1]} A^{[0] T}\\\\\n",
    "&d B^{[1]}=\\frac{1}{m} \\Sigma d Z^{[1]}\n",
    "\\end{aligned}\n",
    "$$\n",
    "\n",
    "### Parameter updates\n",
    "\n",
    "$$\n",
    "\\begin{aligned}\n",
    "W^{[2]} &:=W^{[2]}-\\alpha d W^{[2]} \\\\\n",
    "b^{[2]} &:=b^{[2]}-\\alpha d b^{[2]} \\\\\n",
    "W^{[1]} &:=W^{[1]}-\\alpha d W^{[1]} \\\\\n",
    "b^{[1]} &:=b^{[1]}-\\alpha d b^{[1]}\n",
    "\\end{aligned}\n",
    "$$"
   ]
  },
  {
   "cell_type": "markdown",
   "metadata": {},
   "source": [
    "Vars and shapes\n",
    "\n",
    "Forward prop\n",
    "- $A^{[0]} \\sim X: 784 \\times \\mathrm{m}$\n",
    "- $Z^{[1]}: \\sim A^{[1]}: 128 \\times \\mathrm{m}$\n",
    "- $W^{[1]}: 128 \\times 784$\n",
    "- $B^{[1]}: 128 \\times 1$\n",
    "- $Z^{[2]} \\sim A^{[2]}: 64 \\times \\mathrm{m}$\n",
    "- $W^{[2]}: 64 \\times 128$\n",
    "- $B^{[2]}: 64 \\times 1$\n",
    "- $Z^{[3]} \\sim A^{[3]}: 128 \\times \\mathrm{m}$\n",
    "- $W^{[3]}: 10 \\times 64$\n",
    "- $B^{[3]}: 10 \\times 1$\n",
    "\n",
    "Backprop\n",
    "\n",
    "\n",
    "- $d Z^{[2]}: 10 \\times \\mathrm{m}\\left(A^{[2]}\\right)$\n",
    "- $d W^{[2]:} 10 \\times 10$\n",
    "- $d B^{[2]}: 10 \\times 1$\n",
    "- $d Z^{[1]:} 10 \\times \\mathrm{m}\\left(A^{[1]}\\right)$\n",
    "- $d W^{[1]: 10 \\times 10}$\n",
    "- $d B^{[1]}: 10 \\times 1$"
   ]
  },
  {
   "cell_type": "code",
   "execution_count": null,
   "metadata": {},
   "outputs": [],
   "source": []
  },
  {
   "cell_type": "markdown",
   "metadata": {},
   "source": [
    "## Coding"
   ]
  },
  {
   "cell_type": "code",
   "execution_count": 31,
   "metadata": {},
   "outputs": [
    {
     "data": {
      "text/plain": [
       "42000"
      ]
     },
     "execution_count": 31,
     "metadata": {},
     "output_type": "execute_result"
    }
   ],
   "source": [
    "data = pd.read_csv(\"../../data/MNIST/train.csv\")\n",
    "len(data)"
   ]
  },
  {
   "cell_type": "code",
   "execution_count": 32,
   "metadata": {},
   "outputs": [
    {
     "data": {
      "text/html": [
       "<div>\n",
       "<style scoped>\n",
       "    .dataframe tbody tr th:only-of-type {\n",
       "        vertical-align: middle;\n",
       "    }\n",
       "\n",
       "    .dataframe tbody tr th {\n",
       "        vertical-align: top;\n",
       "    }\n",
       "\n",
       "    .dataframe thead th {\n",
       "        text-align: right;\n",
       "    }\n",
       "</style>\n",
       "<table border=\"1\" class=\"dataframe\">\n",
       "  <thead>\n",
       "    <tr style=\"text-align: right;\">\n",
       "      <th></th>\n",
       "      <th>label</th>\n",
       "      <th>pixel0</th>\n",
       "      <th>pixel1</th>\n",
       "      <th>pixel2</th>\n",
       "      <th>pixel3</th>\n",
       "      <th>pixel4</th>\n",
       "      <th>pixel5</th>\n",
       "      <th>pixel6</th>\n",
       "      <th>pixel7</th>\n",
       "      <th>pixel8</th>\n",
       "      <th>...</th>\n",
       "      <th>pixel774</th>\n",
       "      <th>pixel775</th>\n",
       "      <th>pixel776</th>\n",
       "      <th>pixel777</th>\n",
       "      <th>pixel778</th>\n",
       "      <th>pixel779</th>\n",
       "      <th>pixel780</th>\n",
       "      <th>pixel781</th>\n",
       "      <th>pixel782</th>\n",
       "      <th>pixel783</th>\n",
       "    </tr>\n",
       "  </thead>\n",
       "  <tbody>\n",
       "    <tr>\n",
       "      <th>0</th>\n",
       "      <td>1</td>\n",
       "      <td>0</td>\n",
       "      <td>0</td>\n",
       "      <td>0</td>\n",
       "      <td>0</td>\n",
       "      <td>0</td>\n",
       "      <td>0</td>\n",
       "      <td>0</td>\n",
       "      <td>0</td>\n",
       "      <td>0</td>\n",
       "      <td>...</td>\n",
       "      <td>0</td>\n",
       "      <td>0</td>\n",
       "      <td>0</td>\n",
       "      <td>0</td>\n",
       "      <td>0</td>\n",
       "      <td>0</td>\n",
       "      <td>0</td>\n",
       "      <td>0</td>\n",
       "      <td>0</td>\n",
       "      <td>0</td>\n",
       "    </tr>\n",
       "    <tr>\n",
       "      <th>1</th>\n",
       "      <td>0</td>\n",
       "      <td>0</td>\n",
       "      <td>0</td>\n",
       "      <td>0</td>\n",
       "      <td>0</td>\n",
       "      <td>0</td>\n",
       "      <td>0</td>\n",
       "      <td>0</td>\n",
       "      <td>0</td>\n",
       "      <td>0</td>\n",
       "      <td>...</td>\n",
       "      <td>0</td>\n",
       "      <td>0</td>\n",
       "      <td>0</td>\n",
       "      <td>0</td>\n",
       "      <td>0</td>\n",
       "      <td>0</td>\n",
       "      <td>0</td>\n",
       "      <td>0</td>\n",
       "      <td>0</td>\n",
       "      <td>0</td>\n",
       "    </tr>\n",
       "    <tr>\n",
       "      <th>2</th>\n",
       "      <td>1</td>\n",
       "      <td>0</td>\n",
       "      <td>0</td>\n",
       "      <td>0</td>\n",
       "      <td>0</td>\n",
       "      <td>0</td>\n",
       "      <td>0</td>\n",
       "      <td>0</td>\n",
       "      <td>0</td>\n",
       "      <td>0</td>\n",
       "      <td>...</td>\n",
       "      <td>0</td>\n",
       "      <td>0</td>\n",
       "      <td>0</td>\n",
       "      <td>0</td>\n",
       "      <td>0</td>\n",
       "      <td>0</td>\n",
       "      <td>0</td>\n",
       "      <td>0</td>\n",
       "      <td>0</td>\n",
       "      <td>0</td>\n",
       "    </tr>\n",
       "    <tr>\n",
       "      <th>3</th>\n",
       "      <td>4</td>\n",
       "      <td>0</td>\n",
       "      <td>0</td>\n",
       "      <td>0</td>\n",
       "      <td>0</td>\n",
       "      <td>0</td>\n",
       "      <td>0</td>\n",
       "      <td>0</td>\n",
       "      <td>0</td>\n",
       "      <td>0</td>\n",
       "      <td>...</td>\n",
       "      <td>0</td>\n",
       "      <td>0</td>\n",
       "      <td>0</td>\n",
       "      <td>0</td>\n",
       "      <td>0</td>\n",
       "      <td>0</td>\n",
       "      <td>0</td>\n",
       "      <td>0</td>\n",
       "      <td>0</td>\n",
       "      <td>0</td>\n",
       "    </tr>\n",
       "    <tr>\n",
       "      <th>4</th>\n",
       "      <td>0</td>\n",
       "      <td>0</td>\n",
       "      <td>0</td>\n",
       "      <td>0</td>\n",
       "      <td>0</td>\n",
       "      <td>0</td>\n",
       "      <td>0</td>\n",
       "      <td>0</td>\n",
       "      <td>0</td>\n",
       "      <td>0</td>\n",
       "      <td>...</td>\n",
       "      <td>0</td>\n",
       "      <td>0</td>\n",
       "      <td>0</td>\n",
       "      <td>0</td>\n",
       "      <td>0</td>\n",
       "      <td>0</td>\n",
       "      <td>0</td>\n",
       "      <td>0</td>\n",
       "      <td>0</td>\n",
       "      <td>0</td>\n",
       "    </tr>\n",
       "  </tbody>\n",
       "</table>\n",
       "<p>5 rows × 785 columns</p>\n",
       "</div>"
      ],
      "text/plain": [
       "   label  pixel0  pixel1  pixel2  pixel3  pixel4  pixel5  pixel6  pixel7  \\\n",
       "0      1       0       0       0       0       0       0       0       0   \n",
       "1      0       0       0       0       0       0       0       0       0   \n",
       "2      1       0       0       0       0       0       0       0       0   \n",
       "3      4       0       0       0       0       0       0       0       0   \n",
       "4      0       0       0       0       0       0       0       0       0   \n",
       "\n",
       "   pixel8  ...  pixel774  pixel775  pixel776  pixel777  pixel778  pixel779  \\\n",
       "0       0  ...         0         0         0         0         0         0   \n",
       "1       0  ...         0         0         0         0         0         0   \n",
       "2       0  ...         0         0         0         0         0         0   \n",
       "3       0  ...         0         0         0         0         0         0   \n",
       "4       0  ...         0         0         0         0         0         0   \n",
       "\n",
       "   pixel780  pixel781  pixel782  pixel783  \n",
       "0         0         0         0         0  \n",
       "1         0         0         0         0  \n",
       "2         0         0         0         0  \n",
       "3         0         0         0         0  \n",
       "4         0         0         0         0  \n",
       "\n",
       "[5 rows x 785 columns]"
      ]
     },
     "execution_count": 32,
     "metadata": {},
     "output_type": "execute_result"
    }
   ],
   "source": [
    "data.head()"
   ]
  },
  {
   "cell_type": "code",
   "execution_count": 33,
   "metadata": {},
   "outputs": [
    {
     "name": "stdout",
     "output_type": "stream",
     "text": [
      "Rows: 42000, Columns: 785\n"
     ]
    }
   ],
   "source": [
    "# convert to numpy array\n",
    "data = np.array(data)\n",
    "# shuffle it\n",
    "np.random.shuffle(data)\n",
    "m, n = data.shape\n",
    "print(f\"Rows: {m}, Columns: {n}\")"
   ]
  },
  {
   "cell_type": "code",
   "execution_count": 34,
   "metadata": {},
   "outputs": [],
   "source": [
    "# split into train and test\n",
    "\n",
    "data_dev = data[0:1000].T\n",
    "Y_dev = data_dev[0]\n",
    "X_dev = data_dev[1:n]\n",
    "X_dev = X_dev / 255.0\n",
    "\n",
    "data_train = data[1000:m].T\n",
    "Y_train = data_train[0]\n",
    "X_train = data_train[1:n]\n",
    "X_train = X_train / 255.0\n",
    "_, m_train = X_train.shape"
   ]
  },
  {
   "cell_type": "code",
   "execution_count": 35,
   "metadata": {},
   "outputs": [],
   "source": [
    "def init_params() -> tuple:\n",
    "    W1 = np.random.rand(128, 784) - 0.5\n",
    "    b1 = np.random.rand(128, 1) - 0.5\n",
    "\n",
    "    W2 = np.random.rand(64, 128) - 0.5\n",
    "    b2 = np.random.rand(64, 1) - 0.5\n",
    "\n",
    "    W3 = np.random.rand(10, 64) - 0.5\n",
    "    b3 = np.random.rand(10, 1) - 0.5\n",
    "    return W1, b1, W2, b2, W3, b3\n",
    "\n",
    "\n",
    "def ReLU(Z: np.ndarray) -> np.ndarray:\n",
    "    return np.maximum(Z, 0)\n",
    "\n",
    "\n",
    "def softmax(Z: np.ndarray) -> np.ndarray:\n",
    "    A = np.exp(Z) / sum(np.exp(Z))\n",
    "    return A\n",
    "\n",
    "\n",
    "def forward_prop(\n",
    "    W1: np.ndarray, b1: np.ndarray, W2: np.ndarray, b2: np.ndarray, W3: np.ndarray, b3: np.ndarray, X: np.ndarray\n",
    ") -> tuple:\n",
    "    Z1 = W1.dot(X) + b1\n",
    "    A1 = ReLU(Z1)\n",
    "\n",
    "    Z2 = W2.dot(A1) + b2\n",
    "    A2 = ReLU(Z2)\n",
    "\n",
    "    Z3 = W3.dot(A2) + b3\n",
    "    A3 = softmax(Z3)\n",
    "    return Z1, A1, Z2, A2, Z3, A3\n",
    "\n",
    "\n",
    "def ReLU_deriv(Z: np.ndarray) -> np.ndarray:\n",
    "    return Z > 0\n",
    "\n",
    "\n",
    "def one_hot(Y: np.ndarray) -> np.ndarray:\n",
    "    one_hot_Y = np.zeros((Y.size, Y.max() + 1))\n",
    "    one_hot_Y[np.arange(Y.size), Y] = 1\n",
    "    one_hot_Y = one_hot_Y.T\n",
    "    return one_hot_Y\n",
    "\n",
    "\n",
    "def backward_prop(\n",
    "    Z1: np.ndarray,\n",
    "    A1: np.ndarray,\n",
    "    Z2: np.ndarray,\n",
    "    A2: np.ndarray,\n",
    "    Z3: np.ndarray,\n",
    "    A3: np.ndarray,\n",
    "    W1: np.ndarray,\n",
    "    W2: np.ndarray,\n",
    "    W3: np.ndarray,\n",
    "    X: np.ndarray,\n",
    "    Y: np.ndarray,\n",
    ") -> tuple:\n",
    "    one_hot_Y = one_hot(Y)\n",
    "    dZ3 = A3 - one_hot_Y\n",
    "    dW3 = 1 / m * dZ3.dot(A2.T)\n",
    "    db3 = 1 / m * np.sum(dZ3)\n",
    "\n",
    "    dZ2 = W3.T.dot(dZ3) * ReLU_deriv(Z2)\n",
    "    dW2 = 1 / m * dZ2.dot(A1.T)\n",
    "    db2 = 1 / m * np.sum(dZ2)\n",
    "\n",
    "    dZ1 = W2.T.dot(dZ2) * ReLU_deriv(Z1)\n",
    "    dW1 = 1 / m * dZ1.dot(X.T)\n",
    "    db1 = 1 / m * np.sum(dZ1)\n",
    "\n",
    "    return dW1, db1, dW2, db2, dW3, db3\n",
    "\n",
    "\n",
    "def update_params(\n",
    "    W1: np.ndarray,\n",
    "    b1: np.ndarray,\n",
    "    W2: np.ndarray,\n",
    "    b2: np.ndarray,\n",
    "    W3: np.ndarray,\n",
    "    b3: np.ndarray,\n",
    "    dW1: np.ndarray,\n",
    "    db1: np.ndarray,\n",
    "    dW2: np.ndarray,\n",
    "    db2: np.ndarray,\n",
    "    dW3: np.ndarray,\n",
    "    db3: np.ndarray,\n",
    "    alpha: float,\n",
    ") -> tuple:\n",
    "    W1 = W1 - alpha * dW1\n",
    "    b1 = b1 - alpha * db1\n",
    "\n",
    "    W2 = W2 - alpha * dW2\n",
    "    b2 = b2 - alpha * db2\n",
    "\n",
    "    W3 = W3 - alpha * dW3\n",
    "    b3 = b3 - alpha * db3\n",
    "\n",
    "    return W1, b1, W2, b2, W3, b3"
   ]
  },
  {
   "cell_type": "code",
   "execution_count": 36,
   "metadata": {},
   "outputs": [],
   "source": [
    "def get_predictions(A3: np.ndarray) -> np.ndarray:\n",
    "    return np.argmax(A3, 0)\n",
    "\n",
    "\n",
    "def get_accuracy(predictions: np.ndarray, Y: np.ndarray) -> float:\n",
    "    print(predictions, Y)\n",
    "    return np.sum(predictions == Y) / Y.size\n",
    "\n",
    "\n",
    "def gradient_descent(X: np.ndarray, Y: np.ndarray, alpha: float, iterations: int) -> tuple:\n",
    "    W1, b1, W2, b2, W3, b3 = init_params()\n",
    "    for i in range(iterations):\n",
    "        Z1, A1, Z2, A2, Z3, A3 = forward_prop(W1, b1, W2, b2, W3, b3, X)\n",
    "        dW1, db1, dW2, db2, dW3, db3 = backward_prop(Z1, A1, Z2, A2, Z3, A3, W1, W2, W3, X, Y)\n",
    "        W1, b1, W2, b2, W3, b3 = update_params(W1, b1, W2, b2, W3, b3, dW1, db1, dW2, db2, dW3, db3, alpha)\n",
    "        if i % 10 == 0:\n",
    "            print(\"Iteration: \", i)\n",
    "            predictions = get_predictions(A3)\n",
    "            print(get_accuracy(predictions, Y))\n",
    "    return W1, b1, W2, b2, W3, b3"
   ]
  },
  {
   "cell_type": "code",
   "execution_count": 37,
   "metadata": {},
   "outputs": [
    {
     "name": "stdout",
     "output_type": "stream",
     "text": [
      "Iteration:  0\n",
      "[1 6 1 ... 1 1 1] [1 9 7 ... 8 3 9]\n",
      "0.10512195121951219\n",
      "Iteration:  10\n",
      "[1 7 7 ... 1 8 7] [1 9 7 ... 8 3 9]\n",
      "0.464\n",
      "Iteration:  20\n",
      "[1 7 7 ... 1 8 7] [1 9 7 ... 8 3 9]\n",
      "0.6036829268292683\n",
      "Iteration:  30\n",
      "[1 7 7 ... 1 5 7] [1 9 7 ... 8 3 9]\n",
      "0.674609756097561\n",
      "Iteration:  40\n",
      "[1 7 7 ... 8 5 7] [1 9 7 ... 8 3 9]\n",
      "0.7175365853658536\n",
      "Iteration:  50\n",
      "[1 7 7 ... 8 5 7] [1 9 7 ... 8 3 9]\n",
      "0.7457560975609756\n",
      "Iteration:  60\n",
      "[1 7 7 ... 8 5 7] [1 9 7 ... 8 3 9]\n",
      "0.767390243902439\n",
      "Iteration:  70\n",
      "[1 7 7 ... 8 5 7] [1 9 7 ... 8 3 9]\n",
      "0.782390243902439\n",
      "Iteration:  80\n",
      "[1 7 7 ... 8 3 7] [1 9 7 ... 8 3 9]\n",
      "0.7951219512195122\n",
      "Iteration:  90\n",
      "[1 7 7 ... 8 3 7] [1 9 7 ... 8 3 9]\n",
      "0.8055853658536586\n"
     ]
    }
   ],
   "source": [
    "W1, b1, W2, b2, W3, b3 = gradient_descent(X_train, Y_train, 0.10, 100)"
   ]
  },
  {
   "cell_type": "markdown",
   "metadata": {},
   "source": [
    "~82% accuracy on training set after 100 epochs"
   ]
  },
  {
   "cell_type": "code",
   "execution_count": 38,
   "metadata": {},
   "outputs": [],
   "source": [
    "def make_predictions(\n",
    "    X: np.ndarray, W1: np.ndarray, b1: np.ndarray, W2: np.ndarray, b2: np.ndarray, W3: np.ndarray, b3: np.ndarray\n",
    ") -> np.ndarray:\n",
    "    _, _, _, _, _, A3 = forward_prop(W1, b1, W2, b2, W3, b3, X)\n",
    "    predictions = get_predictions(A3)\n",
    "    return predictions\n",
    "\n",
    "\n",
    "def test_prediction(\n",
    "    index: int, W1: np.ndarray, b1: np.ndarray, W2: np.ndarray, b2: np.ndarray, W3: np.ndarray, b3: np.ndarray\n",
    ") -> None:\n",
    "    current_image = X_train[:, index, None]\n",
    "    prediction = make_predictions(X_train[:, index, None], W1, b1, W2, b2, W3, b3)\n",
    "    label = Y_train[index]\n",
    "    print(\"Prediction: \", prediction)\n",
    "    print(\"Label: \", label)\n",
    "\n",
    "    current_image = current_image.reshape((28, 28)) * 255\n",
    "    plt.gray()\n",
    "    plt.imshow(current_image, interpolation=\"nearest\")\n",
    "    plt.show()"
   ]
  },
  {
   "cell_type": "code",
   "execution_count": 39,
   "metadata": {},
   "outputs": [
    {
     "name": "stdout",
     "output_type": "stream",
     "text": [
      "Prediction:  [7]\n",
      "Label:  7\n"
     ]
    },
    {
     "data": {
      "image/png": "[encoded data removed]",
      "text/plain": [
       "<Figure size 432x288 with 1 Axes>"
      ]
     },
     "metadata": {
      "needs_background": "light"
     },
     "output_type": "display_data"
    },
    {
     "name": "stdout",
     "output_type": "stream",
     "text": [
      "Prediction:  [1]\n",
      "Label:  1\n"
     ]
    },
    {
     "data": {
      "image/png": "[encoded data removed]",
      "text/plain": [
       "<Figure size 432x288 with 1 Axes>"
      ]
     },
     "metadata": {
      "needs_background": "light"
     },
     "output_type": "display_data"
    },
    {
     "name": "stdout",
     "output_type": "stream",
     "text": [
      "Prediction:  [1]\n",
      "Label:  1\n"
     ]
    },
    {
     "data": {
      "image/png": "[encoded data removed]",
      "text/plain": [
       "<Figure size 432x288 with 1 Axes>"
      ]
     },
     "metadata": {
      "needs_background": "light"
     },
     "output_type": "display_data"
    },
    {
     "name": "stdout",
     "output_type": "stream",
     "text": [
      "Prediction:  [9]\n",
      "Label:  9\n"
     ]
    },
    {
     "data": {
      "image/png": "[encoded data removed]",
      "text/plain": [
       "<Figure size 432x288 with 1 Axes>"
      ]
     },
     "metadata": {
      "needs_background": "light"
     },
     "output_type": "display_data"
    }
   ],
   "source": [
    "test_prediction(2, W1, b1, W2, b2, W3, b3)\n",
    "test_prediction(8, W1, b1, W2, b2, W3, b3)\n",
    "test_prediction(0, W1, b1, W2, b2, W3, b3)\n",
    "test_prediction(3, W1, b1, W2, b2, W3, b3)"
   ]
  },
  {
   "cell_type": "code",
   "execution_count": 40,
   "metadata": {},
   "outputs": [
    {
     "name": "stdout",
     "output_type": "stream",
     "text": [
      "[0 3 1 7 7 2 6 8 8 4 6 4 3 8 0 8 4 9 7 7 5 0 4 4 9 1 8 7 0 8 2 4 8 8 9 6 0\n",
      " 4 9 2 9 4 2 9 1 2 9 5 3 5 5 4 8 0 3 7 2 4 6 5 5 1 0 6 6 2 5 2 4 9 8 9 6 6\n",
      " 5 6 9 8 2 6 1 2 0 7 2 3 7 9 9 9 4 6 5 4 2 4 6 4 1 0 8 6 7 1 8 9 6 4 2 9 7\n",
      " 8 9 7 3 4 7 3 6 8 2 1 6 2 6 1 2 7 8 0 7 1 2 2 4 9 5 4 2 1 5 0 0 3 4 1 8 6\n",
      " 1 3 5 6 8 5 0 4 7 1 6 5 1 0 0 7 1 3 8 7 2 7 3 3 1 4 2 3 2 6 7 8 3 1 5 7 2\n",
      " 6 4 5 6 9 2 3 3 7 0 0 4 6 8 2 1 3 0 5 5 6 2 8 8 8 2 8 8 9 7 6 7 5 7 1 6 8\n",
      " 0 0 3 6 2 2 5 0 7 7 3 9 5 4 0 4 1 5 5 9 1 5 0 3 7 0 9 4 1 0 3 5 9 7 3 8 4\n",
      " 6 0 3 7 4 8 4 3 1 0 4 4 9 9 1 8 0 3 0 8 0 5 8 2 7 0 9 4 1 7 6 1 0 3 1 4 7\n",
      " 4 7 1 3 4 3 8 0 8 0 9 9 6 0 8 1 0 3 0 1 9 6 6 7 0 1 8 9 6 0 1 8 1 5 2 5 1\n",
      " 2 7 0 3 7 1 3 7 5 8 4 4 9 5 1 6 2 3 1 2 1 7 6 3 7 0 9 0 4 2 3 8 9 7 9 2 7\n",
      " 8 4 7 5 4 9 3 0 7 6 6 5 6 7 9 0 9 7 8 5 2 2 0 4 5 5 4 2 2 8 6 2 9 9 6 9 0\n",
      " 4 6 4 1 0 4 3 8 2 3 1 4 9 7 0 0 1 9 2 1 5 1 4 8 4 5 8 1 6 9 3 2 8 8 7 9 7\n",
      " 6 8 9 6 5 1 2 6 4 2 9 4 3 8 0 7 6 9 6 4 4 9 7 7 8 7 9 1 6 6 1 0 8 3 7 7 9\n",
      " 6 9 1 6 3 0 3 9 3 0 6 1 9 6 5 9 6 8 1 1 9 1 7 0 4 8 0 9 8 7 1 3 2 8 4 4 1\n",
      " 5 8 6 7 7 4 3 9 6 9 6 0 8 1 9 2 5 6 1 6 7 8 1 2 0 4 6 1 6 7 7 2 2 5 9 9 3\n",
      " 9 8 5 9 4 5 8 0 0 6 2 8 8 4 1 7 0 8 4 9 2 2 8 9 9 4 2 5 5 0 4 2 3 1 3 8 7\n",
      " 8 4 6 9 3 2 0 7 7 2 1 2 3 1 6 4 6 6 9 6 6 1 9 6 1 3 9 3 2 9 8 7 3 7 2 4 0\n",
      " 2 0 3 4 6 1 9 2 5 1 5 0 9 4 6 1 8 4 5 6 4 3 3 1 4 9 2 2 4 8 9 8 5 6 3 2 4\n",
      " 4 9 1 0 1 4 8 1 2 8 1 3 2 3 0 6 2 8 0 0 9 2 5 7 6 9 8 8 5 1 8 8 6 6 7 2 9\n",
      " 9 1 5 1 4 3 7 1 8 1 9 9 4 7 3 0 9 0 0 2 5 8 6 5 1 9 9 7 1 7 6 7 9 3 0 6 5\n",
      " 7 0 3 6 5 1 4 7 2 6 1 8 7 4 2 1 0 4 8 0 8 9 3 1 8 9 3 7 6 4 0 7 5 7 4 6 9\n",
      " 5 6 8 9 7 1 5 3 2 1 7 5 6 8 1 5 9 5 3 3 2 8 8 4 3 4 3 3 3 3 6 5 8 2 9 0 0\n",
      " 4 7 6 7 5 9 6 4 7 8 6 2 1 1 9 2 6 7 6 1 9 7 3 8 2 4 6 1 4 6 7 5 3 4 4 6 5\n",
      " 0 1 0 1 9 0 5 8 8 3 3 3 3 1 7 5 2 0 7 6 0 9 7 7 6 0 6 7 6 2 7 1 7 4 3 5 7\n",
      " 4 3 8 1 1 6 1 2 8 9 4 4 0 6 2 5 1 3 9 3 6 4 7 4 2 6 9 6 3 7 1 2 8 8 8 0 1\n",
      " 1 2 1 8 7 7 8 0 2 6 7 9 9 0 1 7 2 7 9 3 4 9 4 9 3 5 2 6 8 9 5 2 4 3 2 6 2\n",
      " 8 8 9 3 9 9 5 9 4 6 6 4 2 6 8 1 8 9 8 8 4 2 4 0 4 1 1 1 6 1 1 4 6 1 4 0 4\n",
      " 0] [0 3 2 7 9 3 6 8 8 4 6 4 3 3 0 8 4 4 9 7 5 0 4 4 9 1 8 7 0 8 2 4 8 8 9 6 0\n",
      " 4 9 6 9 4 2 9 5 2 9 5 5 9 5 4 8 0 3 7 2 9 6 6 5 1 0 6 6 2 5 2 4 7 3 9 6 3\n",
      " 5 6 9 4 2 6 1 2 0 7 2 3 7 9 9 9 4 6 5 4 8 4 6 4 1 0 8 6 7 1 8 7 6 4 2 9 6\n",
      " 8 9 7 3 9 7 8 3 2 2 1 6 2 2 1 2 7 8 0 7 5 2 2 2 7 5 4 0 1 7 0 0 3 4 1 4 9\n",
      " 1 9 8 6 8 5 0 4 4 1 6 5 1 0 7 7 1 3 8 7 2 7 3 3 1 2 7 3 2 6 7 5 0 1 5 7 2\n",
      " 6 4 5 6 9 6 3 3 9 0 0 4 6 5 2 1 3 0 3 3 6 2 6 8 8 2 8 8 7 7 6 8 5 7 1 6 8\n",
      " 0 0 3 6 8 8 5 0 7 7 3 9 5 9 0 4 1 6 5 9 1 5 0 2 2 0 5 9 1 0 5 5 9 7 3 3 4\n",
      " 6 0 3 7 4 8 4 3 1 0 4 4 5 9 1 5 0 3 0 8 0 5 2 2 7 0 9 4 9 7 6 1 0 5 1 4 7\n",
      " 4 7 1 3 9 5 8 0 8 0 9 9 4 8 8 1 0 3 0 1 9 9 6 7 0 1 8 9 6 0 1 8 1 5 2 6 1\n",
      " 3 7 6 3 7 1 3 7 5 8 4 5 9 6 1 6 2 3 1 2 1 9 6 3 7 0 9 0 4 2 3 8 5 9 7 2 7\n",
      " 8 4 7 3 4 9 3 0 7 2 6 5 6 7 9 0 9 7 4 5 2 2 0 4 5 5 4 2 2 8 6 8 9 4 6 9 0\n",
      " 4 6 4 7 0 4 8 5 6 3 8 5 3 7 0 0 5 9 3 1 8 1 9 8 4 8 8 1 6 7 5 2 8 8 7 9 7\n",
      " 3 8 8 2 5 1 2 6 4 2 9 4 3 5 0 7 6 9 6 4 9 9 7 5 8 7 9 1 6 6 1 0 8 8 5 7 9\n",
      " 6 9 1 6 3 0 3 4 3 0 0 1 9 6 5 9 2 8 1 1 9 1 9 0 4 5 0 9 8 7 1 5 2 8 8 9 1\n",
      " 8 8 6 5 7 4 3 4 6 9 2 0 8 1 9 2 8 6 1 6 7 5 1 2 0 5 6 1 6 7 8 7 2 3 9 9 3\n",
      " 9 8 5 4 4 8 9 0 0 6 2 8 7 4 1 7 0 8 6 9 2 2 8 7 9 4 2 5 3 0 4 2 3 1 3 8 7\n",
      " 8 2 6 9 3 2 0 7 7 2 1 2 3 1 6 4 6 6 9 6 6 1 9 6 1 3 9 3 2 9 8 7 3 7 2 4 0\n",
      " 6 0 5 4 6 1 9 2 5 1 5 0 7 4 6 1 8 4 5 6 4 3 8 1 4 9 2 9 4 2 7 8 5 6 8 2 4\n",
      " 4 9 1 0 1 4 8 1 2 8 1 3 2 3 0 6 2 8 2 0 7 2 3 7 3 9 8 8 5 5 8 8 6 6 7 2 9\n",
      " 9 1 5 1 4 3 7 1 6 1 9 9 4 7 5 0 9 0 0 2 5 8 6 4 1 9 7 7 1 7 6 7 9 3 0 6 5\n",
      " 4 0 3 6 8 1 4 5 2 6 1 8 9 4 2 1 0 4 8 0 5 9 3 1 8 9 3 7 6 4 0 2 3 7 4 6 7\n",
      " 5 6 4 9 7 1 5 3 2 5 7 5 6 9 1 5 9 3 3 3 2 8 8 4 3 4 3 3 2 5 6 8 8 2 4 0 0\n",
      " 4 4 4 7 5 9 6 4 7 5 6 2 5 1 9 2 6 7 1 1 9 7 3 8 2 4 6 1 4 6 7 3 7 4 6 6 5\n",
      " 0 1 0 1 8 0 5 8 8 1 3 3 3 1 7 0 2 0 7 6 0 9 7 7 6 0 6 7 5 2 7 1 7 4 3 5 3\n",
      " 4 9 8 1 1 6 1 2 2 8 4 5 6 5 2 5 1 2 4 2 6 3 7 4 2 6 9 0 2 7 1 2 8 9 8 0 1\n",
      " 1 2 1 8 7 7 8 0 5 6 7 9 9 0 1 7 2 7 9 3 4 7 4 9 3 5 2 6 8 9 3 2 4 3 4 6 2\n",
      " 8 7 9 8 9 9 5 9 2 6 6 4 2 6 0 1 8 4 8 8 9 5 4 0 4 1 1 1 6 1 1 4 6 1 4 0 4\n",
      " 0]\n"
     ]
    },
    {
     "data": {
      "text/plain": [
       "0.801"
      ]
     },
     "execution_count": 40,
     "metadata": {},
     "output_type": "execute_result"
    }
   ],
   "source": [
    "dev_predictions = make_predictions(X_dev, W1, b1, W2, b2, W3, b3)\n",
    "get_accuracy(dev_predictions, Y_dev)"
   ]
  }
 ],
 "metadata": {
  "kernelspec": {
   "display_name": "Python 3.10.3 ('.venv': poetry)",
   "language": "python",
   "name": "python3"
  },
  "language_info": {
   "codemirror_mode": {
    "name": "ipython",
    "version": 3
   },
   "file_extension": ".py",
   "mimetype": "text/x-python",
   "name": "python",
   "nbconvert_exporter": "python",
   "pygments_lexer": "ipython3",
   "version": "3.10.3"
  },
  "orig_nbformat": 4,
  "vscode": {
   "interpreter": {
    "hash": "9a89fcd9dc923f3a7c49fa2cddc8f294683fde34777d6819899efbfce77d2ab3"
   }
  }
 },
 "nbformat": 4,
 "nbformat_minor": 2
}
