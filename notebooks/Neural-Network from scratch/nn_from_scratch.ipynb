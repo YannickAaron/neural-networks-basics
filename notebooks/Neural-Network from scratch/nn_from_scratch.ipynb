{
 "cells": [
  {
   "cell_type": "code",
   "execution_count": 1,
   "metadata": {},
   "outputs": [],
   "source": [
    "import pandas as pd\n",
    "import numpy as np"
   ]
  },
  {
   "cell_type": "markdown",
   "metadata": {},
   "source": [
    "## Task:\n",
    "Classifying handwritten digits from the famous MNIST dataset.\n",
    "\n",
    "$$\n",
    "\\left[\\begin{array}{ll}\n",
    "x_{1} & x_{2}\n",
    "\\end{array}\\right]\\left[\\begin{array}{lll}\n",
    "w_{11} & w_{12} & w_{13} \\\\\n",
    "w_{21} & w_{22} & w_{23}\n",
    "\\end{array}\\right]=\\left[\\begin{array}{l}\n",
    "x_{1} w_{11}+x_{2} w_{21} \\\\\n",
    "x_{1} w_{12}+x_{2} w_{22} \\\\\n",
    "x_{1} w_{13}+x_{2} w_{23}\n",
    "\\end{array}\\right]^{\\prime}=\\left[\\begin{array}{l}\n",
    "h_{1} \\\\\n",
    "h_{2} \\\\\n",
    "h_{3}\n",
    "\\end{array}\\right]^{\\prime}\n",
    "$$"
   ]
  },
  {
   "cell_type": "markdown",
   "metadata": {},
   "source": [
    "## Difference between scalar, vector matrix and tensor\n",
    "Before starting this excerise, the differences between those 4 types has to be understood.\n",
    "Please open the scalar_vector_matrix_tensor.ipynb notebook if you are not familiar with them.\n"
   ]
  },
  {
   "cell_type": "code",
   "execution_count": null,
   "metadata": {},
   "outputs": [],
   "source": [
    "data = pd.read_csv('/kaggle/input/digit-recognizer/train.csv')"
   ]
  }
 ],
 "metadata": {
  "kernelspec": {
   "display_name": "Python 3.10.3 ('.venv': poetry)",
   "language": "python",
   "name": "python3"
  },
  "language_info": {
   "codemirror_mode": {
    "name": "ipython",
    "version": 3
   },
   "file_extension": ".py",
   "mimetype": "text/x-python",
   "name": "python",
   "nbconvert_exporter": "python",
   "pygments_lexer": "ipython3",
   "version": "3.10.3"
  },
  "orig_nbformat": 4,
  "vscode": {
   "interpreter": {
    "hash": "9a89fcd9dc923f3a7c49fa2cddc8f294683fde34777d6819899efbfce77d2ab3"
   }
  }
 },
 "nbformat": 4,
 "nbformat_minor": 2
}
